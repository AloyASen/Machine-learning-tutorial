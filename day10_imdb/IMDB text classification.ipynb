{
 "cells": [
  {
   "cell_type": "code",
   "execution_count": 1,
   "metadata": {},
   "outputs": [],
   "source": [
    "#this is an example of binary classicicatio  \n",
    "# the training and the testing sets are balanced\n"
   ]
  },
  {
   "cell_type": "code",
   "execution_count": 2,
   "metadata": {},
   "outputs": [],
   "source": [
    "#install the version of numpy where picle is auto set to True\n",
    "import numpy as np"
   ]
  },
  {
   "cell_type": "code",
   "execution_count": 3,
   "metadata": {},
   "outputs": [
    {
     "name": "stdout",
     "output_type": "stream",
     "text": [
      "1.13.1\n"
     ]
    }
   ],
   "source": [
    "import tensorflow as tf\n",
    "from tensorflow import keras\n",
    "\n",
    "print(tf.__version__)"
   ]
  },
  {
   "cell_type": "code",
   "execution_count": 4,
   "metadata": {},
   "outputs": [],
   "source": [
    "# download the imdb dataset"
   ]
  },
  {
   "cell_type": "code",
   "execution_count": 5,
   "metadata": {},
   "outputs": [],
   "source": [
    "imdb= keras.datasets.imdb\n",
    "((train_data,train_labels),(test_data,test_labels)) = imdb.load_data(num_words=10000)"
   ]
  },
  {
   "cell_type": "code",
   "execution_count": 6,
   "metadata": {},
   "outputs": [
    {
     "name": "stdout",
     "output_type": "stream",
     "text": [
      "training entries: 25000, labels: 25000\n"
     ]
    }
   ],
   "source": [
    "#explore the dataset\n",
    "print(\"training entries: {}, labels: {}\".format(len(train_data),len(train_labels)))"
   ]
  },
  {
   "cell_type": "code",
   "execution_count": 7,
   "metadata": {},
   "outputs": [
    {
     "name": "stdout",
     "output_type": "stream",
     "text": [
      "[1, 14, 22, 16, 43, 530, 973, 1622, 1385, 65, 458, 4468, 66, 3941, 4, 173, 36, 256, 5, 25, 100, 43, 838, 112, 50, 670, 2, 9, 35, 480, 284, 5, 150, 4, 172, 112, 167, 2, 336, 385, 39, 4, 172, 4536, 1111, 17, 546, 38, 13, 447, 4, 192, 50, 16, 6, 147, 2025, 19, 14, 22, 4, 1920, 4613, 469, 4, 22, 71, 87, 12, 16, 43, 530, 38, 76, 15, 13, 1247, 4, 22, 17, 515, 17, 12, 16, 626, 18, 2, 5, 62, 386, 12, 8, 316, 8, 106, 5, 4, 2223, 5244, 16, 480, 66, 3785, 33, 4, 130, 12, 16, 38, 619, 5, 25, 124, 51, 36, 135, 48, 25, 1415, 33, 6, 22, 12, 215, 28, 77, 52, 5, 14, 407, 16, 82, 2, 8, 4, 107, 117, 5952, 15, 256, 4, 2, 7, 3766, 5, 723, 36, 71, 43, 530, 476, 26, 400, 317, 46, 7, 4, 2, 1029, 13, 104, 88, 4, 381, 15, 297, 98, 32, 2071, 56, 26, 141, 6, 194, 7486, 18, 4, 226, 22, 21, 134, 476, 26, 480, 5, 144, 30, 5535, 18, 51, 36, 28, 224, 92, 25, 104, 4, 226, 65, 16, 38, 1334, 88, 12, 16, 283, 5, 16, 4472, 113, 103, 32, 15, 16, 5345, 19, 178, 32]\n"
     ]
    }
   ],
   "source": [
    "print(train_data[0])"
   ]
  },
  {
   "cell_type": "code",
   "execution_count": 8,
   "metadata": {},
   "outputs": [
    {
     "data": {
      "text/plain": [
       "(218, 189)"
      ]
     },
     "execution_count": 8,
     "metadata": {},
     "output_type": "execute_result"
    }
   ],
   "source": [
    "len(train_data[0]), len(train_data[1])"
   ]
  },
  {
   "cell_type": "code",
   "execution_count": 9,
   "metadata": {},
   "outputs": [],
   "source": [
    "# convert the integers back to words"
   ]
  },
  {
   "cell_type": "code",
   "execution_count": 10,
   "metadata": {},
   "outputs": [],
   "source": [
    "word_index= imdb.get_word_index()\n",
    "\n",
    "#the first indices are reserved\n",
    "word_index={k:(v+3) for k,v in word_index.items()}\n",
    "word_index[\"<PAD>\"] = 0\n",
    "word_index[\"<START>\"] = 1\n",
    "word_index[\"<UNK>\"] = 2 # unknown\n",
    "word_index[\"<UNUSED>\"] = 3\n",
    "\n",
    "reverse_word_index = dict([(value, key) for (key,value) in word_index.items() ])\n",
    "\n",
    "def decode_review(text):\n",
    "    return ' '.join([reverse_word_index.get(i, '?') for i in text])"
   ]
  },
  {
   "cell_type": "code",
   "execution_count": 11,
   "metadata": {},
   "outputs": [
    {
     "data": {
      "text/plain": [
       "\"<START> this film was just brilliant casting location scenery story direction everyone's really suited the part they played and you could just imagine being there robert <UNK> is an amazing actor and now the same being director <UNK> father came from the same scottish island as myself so i loved the fact there was a real connection with this film the witty remarks throughout the film were great it was just brilliant so much that i bought the film as soon as it was released for <UNK> and would recommend it to everyone to watch and the fly fishing was amazing really cried at the end it was so sad and you know what they say if you cry at a film it must have been good and this definitely was also <UNK> to the two little boy's that played the <UNK> of norman and paul they were just brilliant children are often left out of the <UNK> list i think because the stars that play them all grown up are such a big profile for the whole film but these children are amazing and should be praised for what they have done don't you think the whole story was so lovely because it was true and was someone's life after all that was shared with us all\""
      ]
     },
     "execution_count": 11,
     "metadata": {},
     "output_type": "execute_result"
    }
   ],
   "source": [
    "decode_review(train_data[0])"
   ]
  },
  {
   "cell_type": "code",
   "execution_count": 12,
   "metadata": {},
   "outputs": [],
   "source": [
    "# the data preprocessing --- this is normalization process"
   ]
  },
  {
   "cell_type": "markdown",
   "metadata": {},
   "source": [
    "the reviews - the array of integers must be converted to tensors before fed into a neural network\n",
    "Here we pd the arrays, so that all have the same length.Then create a tensor of shape num_examples x max_length\n",
    "we can use an embedding layer that can handle this shape as the first layerin our network"
   ]
  },
  {
   "cell_type": "code",
   "execution_count": 13,
   "metadata": {},
   "outputs": [
    {
     "data": {
      "text/plain": [
       "(256, 256)"
      ]
     },
     "execution_count": 13,
     "metadata": {},
     "output_type": "execute_result"
    }
   ],
   "source": [
    "train_data = keras.preprocessing.sequence.pad_sequences(train_data,\n",
    "                                                       value = word_index[\"<PAD>\"],\n",
    "                                                       padding='post',\n",
    "                                                       maxlen= 256)\n",
    "test_data = keras.preprocessing.sequence.pad_sequences(test_data,\n",
    "                                                      value=word_index[\"<PAD>\"],\n",
    "                                                      padding= 'post',\n",
    "                                                      maxlen= 256)\n",
    "# lets look at the length of the examples now\n",
    "len(train_data[0]), len(train_data[1])"
   ]
  },
  {
   "cell_type": "code",
   "execution_count": 14,
   "metadata": {},
   "outputs": [
    {
     "name": "stdout",
     "output_type": "stream",
     "text": [
      "[   1   14   22   16   43  530  973 1622 1385   65  458 4468   66 3941\n",
      "    4  173   36  256    5   25  100   43  838  112   50  670    2    9\n",
      "   35  480  284    5  150    4  172  112  167    2  336  385   39    4\n",
      "  172 4536 1111   17  546   38   13  447    4  192   50   16    6  147\n",
      " 2025   19   14   22    4 1920 4613  469    4   22   71   87   12   16\n",
      "   43  530   38   76   15   13 1247    4   22   17  515   17   12   16\n",
      "  626   18    2    5   62  386   12    8  316    8  106    5    4 2223\n",
      " 5244   16  480   66 3785   33    4  130   12   16   38  619    5   25\n",
      "  124   51   36  135   48   25 1415   33    6   22   12  215   28   77\n",
      "   52    5   14  407   16   82    2    8    4  107  117 5952   15  256\n",
      "    4    2    7 3766    5  723   36   71   43  530  476   26  400  317\n",
      "   46    7    4    2 1029   13  104   88    4  381   15  297   98   32\n",
      " 2071   56   26  141    6  194 7486   18    4  226   22   21  134  476\n",
      "   26  480    5  144   30 5535   18   51   36   28  224   92   25  104\n",
      "    4  226   65   16   38 1334   88   12   16  283    5   16 4472  113\n",
      "  103   32   15   16 5345   19  178   32    0    0    0    0    0    0\n",
      "    0    0    0    0    0    0    0    0    0    0    0    0    0    0\n",
      "    0    0    0    0    0    0    0    0    0    0    0    0    0    0\n",
      "    0    0    0    0]\n"
     ]
    }
   ],
   "source": [
    "print(train_data[0])"
   ]
  },
  {
   "cell_type": "code",
   "execution_count": 15,
   "metadata": {},
   "outputs": [
    {
     "name": "stdout",
     "output_type": "stream",
     "text": [
      "WARNING:tensorflow:From C:\\Anaconda3\\envs\\Fuckbook fb app\\lib\\site-packages\\tensorflow\\python\\ops\\resource_variable_ops.py:435: colocate_with (from tensorflow.python.framework.ops) is deprecated and will be removed in a future version.\n",
      "Instructions for updating:\n",
      "Colocations handled automatically by placer.\n",
      "_________________________________________________________________\n",
      "Layer (type)                 Output Shape              Param #   \n",
      "=================================================================\n",
      "embedding (Embedding)        (None, None, 16)          160000    \n",
      "_________________________________________________________________\n",
      "global_average_pooling1d (Gl (None, 16)                0         \n",
      "_________________________________________________________________\n",
      "dense (Dense)                (None, 16)                272       \n",
      "_________________________________________________________________\n",
      "dense_1 (Dense)              (None, 1)                 17        \n",
      "=================================================================\n",
      "Total params: 160,289\n",
      "Trainable params: 160,289\n",
      "Non-trainable params: 0\n",
      "_________________________________________________________________\n"
     ]
    }
   ],
   "source": [
    "vocab_size = 10000\n",
    "\n",
    "model = keras.Sequential()\n",
    "model.add(keras.layers.Embedding(vocab_size, 16))\n",
    "model.add(keras.layers.GlobalAveragePooling1D())\n",
    "model.add(keras.layers.Dense(16, activation= tf.nn.relu))\n",
    "model.add(keras.layers.Dense(1, activation= tf.nn.sigmoid))\n",
    "\n",
    "model.summary()"
   ]
  },
  {
   "cell_type": "code",
   "execution_count": 20,
   "metadata": {},
   "outputs": [],
   "source": [
    "model.compile(optimizer=tf.train.AdamOptimizer(),\n",
    "             loss='binary_crossentropy',\n",
    "             metrics=['accuracy'])"
   ]
  },
  {
   "cell_type": "code",
   "execution_count": 21,
   "metadata": {},
   "outputs": [],
   "source": [
    "x_val = train_data[:10000]\n",
    "partial_x_train = train_data[10000:]\n",
    "\n",
    "y_val = train_labels[:10000]\n",
    "partial_y_train =train_labels[10000:]\n"
   ]
  },
  {
   "cell_type": "code",
   "execution_count": 17,
   "metadata": {},
   "outputs": [],
   "source": [
    "# train the model"
   ]
  },
  {
   "cell_type": "code",
   "execution_count": 22,
   "metadata": {},
   "outputs": [
    {
     "name": "stdout",
     "output_type": "stream",
     "text": [
      "Train on 15000 samples, validate on 10000 samples\n",
      "WARNING:tensorflow:From C:\\Anaconda3\\envs\\Fuckbook fb app\\lib\\site-packages\\tensorflow\\python\\ops\\math_ops.py:3066: to_int32 (from tensorflow.python.ops.math_ops) is deprecated and will be removed in a future version.\n",
      "Instructions for updating:\n",
      "Use tf.cast instead.\n",
      "Epoch 1/40\n",
      "15000/15000 [==============================] - 6s 400us/sample - loss: 0.6919 - acc: 0.5520 - val_loss: 0.6902 - val_acc: 0.5496\n",
      "Epoch 2/40\n",
      "15000/15000 [==============================] - 2s 161us/sample - loss: 0.6868 - acc: 0.6671 - val_loss: 0.6835 - val_acc: 0.7041\n",
      "Epoch 3/40\n",
      "15000/15000 [==============================] - 2s 163us/sample - loss: 0.6765 - acc: 0.7287 - val_loss: 0.6707 - val_acc: 0.7421\n",
      "Epoch 4/40\n",
      "15000/15000 [==============================] - 2s 164us/sample - loss: 0.6583 - acc: 0.7355 - val_loss: 0.6499 - val_acc: 0.7638\n",
      "Epoch 5/40\n",
      "15000/15000 [==============================] - 3s 168us/sample - loss: 0.6308 - acc: 0.7759 - val_loss: 0.6210 - val_acc: 0.7782\n",
      "Epoch 6/40\n",
      "15000/15000 [==============================] - 3s 174us/sample - loss: 0.5950 - acc: 0.8028 - val_loss: 0.5863 - val_acc: 0.7877\n",
      "Epoch 7/40\n",
      "15000/15000 [==============================] - 2s 162us/sample - loss: 0.5536 - acc: 0.8191 - val_loss: 0.5466 - val_acc: 0.8136\n",
      "Epoch 8/40\n",
      "15000/15000 [==============================] - 2s 163us/sample - loss: 0.5103 - acc: 0.8403 - val_loss: 0.5081 - val_acc: 0.8267\n",
      "Epoch 9/40\n",
      "15000/15000 [==============================] - 2s 167us/sample - loss: 0.4680 - acc: 0.8539 - val_loss: 0.4711 - val_acc: 0.8389\n",
      "Epoch 10/40\n",
      "15000/15000 [==============================] - 3s 173us/sample - loss: 0.4272 - acc: 0.8685 - val_loss: 0.4363 - val_acc: 0.8457\n",
      "Epoch 11/40\n",
      "15000/15000 [==============================] - 2s 167us/sample - loss: 0.3898 - acc: 0.8769 - val_loss: 0.4065 - val_acc: 0.8561\n",
      "Epoch 12/40\n",
      "15000/15000 [==============================] - 3s 173us/sample - loss: 0.3581 - acc: 0.8861 - val_loss: 0.3837 - val_acc: 0.8592\n",
      "Epoch 13/40\n",
      "15000/15000 [==============================] - 3s 167us/sample - loss: 0.3320 - acc: 0.8927 - val_loss: 0.3629 - val_acc: 0.8661\n",
      "Epoch 14/40\n",
      "15000/15000 [==============================] - 3s 173us/sample - loss: 0.3082 - acc: 0.8977 - val_loss: 0.3474 - val_acc: 0.8701\n",
      "Epoch 15/40\n",
      "15000/15000 [==============================] - 2s 163us/sample - loss: 0.2885 - acc: 0.9017 - val_loss: 0.3345 - val_acc: 0.8724\n",
      "Epoch 16/40\n",
      "15000/15000 [==============================] - 2s 162us/sample - loss: 0.2713 - acc: 0.9071 - val_loss: 0.3244 - val_acc: 0.8753\n",
      "Epoch 17/40\n",
      "15000/15000 [==============================] - 2s 162us/sample - loss: 0.2559 - acc: 0.9121 - val_loss: 0.3160 - val_acc: 0.8777\n",
      "Epoch 18/40\n",
      "15000/15000 [==============================] - 3s 169us/sample - loss: 0.2424 - acc: 0.9167 - val_loss: 0.3088 - val_acc: 0.8812\n",
      "Epoch 19/40\n",
      "15000/15000 [==============================] - 3s 170us/sample - loss: 0.2303 - acc: 0.9202 - val_loss: 0.3032 - val_acc: 0.8812\n",
      "Epoch 20/40\n",
      "15000/15000 [==============================] - 2s 163us/sample - loss: 0.2196 - acc: 0.9236 - val_loss: 0.2992 - val_acc: 0.8811\n",
      "Epoch 21/40\n",
      "15000/15000 [==============================] - 2s 162us/sample - loss: 0.2088 - acc: 0.9285 - val_loss: 0.2959 - val_acc: 0.8822\n",
      "Epoch 22/40\n",
      "15000/15000 [==============================] - 2s 164us/sample - loss: 0.1998 - acc: 0.9305 - val_loss: 0.2924 - val_acc: 0.8846\n",
      "Epoch 23/40\n",
      "15000/15000 [==============================] - 2s 164us/sample - loss: 0.1907 - acc: 0.9356 - val_loss: 0.2910 - val_acc: 0.8831\n",
      "Epoch 24/40\n",
      "15000/15000 [==============================] - 2s 165us/sample - loss: 0.1829 - acc: 0.9387 - val_loss: 0.2894 - val_acc: 0.8846\n",
      "Epoch 25/40\n",
      "15000/15000 [==============================] - 3s 186us/sample - loss: 0.1749 - acc: 0.9427 - val_loss: 0.2872 - val_acc: 0.8847\n",
      "Epoch 26/40\n",
      "15000/15000 [==============================] - 3s 172us/sample - loss: 0.1679 - acc: 0.9453 - val_loss: 0.2877 - val_acc: 0.8835\n",
      "Epoch 27/40\n",
      "15000/15000 [==============================] - 3s 170us/sample - loss: 0.1612 - acc: 0.9485 - val_loss: 0.2867 - val_acc: 0.8842\n",
      "Epoch 28/40\n",
      "15000/15000 [==============================] - 2s 163us/sample - loss: 0.1547 - acc: 0.9515 - val_loss: 0.2871 - val_acc: 0.8854\n",
      "Epoch 29/40\n",
      "15000/15000 [==============================] - 2s 162us/sample - loss: 0.1491 - acc: 0.9543 - val_loss: 0.2881 - val_acc: 0.8837\n",
      "Epoch 30/40\n",
      "15000/15000 [==============================] - 2s 163us/sample - loss: 0.1433 - acc: 0.9558 - val_loss: 0.2874 - val_acc: 0.8869\n",
      "Epoch 31/40\n",
      "15000/15000 [==============================] - 3s 179us/sample - loss: 0.1373 - acc: 0.9588 - val_loss: 0.2882 - val_acc: 0.8871\n",
      "Epoch 32/40\n",
      "15000/15000 [==============================] - 3s 167us/sample - loss: 0.1320 - acc: 0.9611 - val_loss: 0.2894 - val_acc: 0.8867\n",
      "Epoch 33/40\n",
      "15000/15000 [==============================] - 2s 164us/sample - loss: 0.1268 - acc: 0.9627 - val_loss: 0.2914 - val_acc: 0.8863\n",
      "Epoch 34/40\n",
      "15000/15000 [==============================] - 2s 165us/sample - loss: 0.1222 - acc: 0.9642 - val_loss: 0.2934 - val_acc: 0.8859\n",
      "Epoch 35/40\n",
      "15000/15000 [==============================] - 2s 162us/sample - loss: 0.1181 - acc: 0.9648 - val_loss: 0.2953 - val_acc: 0.8870\n",
      "Epoch 36/40\n",
      "15000/15000 [==============================] - 2s 160us/sample - loss: 0.1134 - acc: 0.9679 - val_loss: 0.2970 - val_acc: 0.8854\n",
      "Epoch 37/40\n",
      "15000/15000 [==============================] - 3s 167us/sample - loss: 0.1090 - acc: 0.9693 - val_loss: 0.2995 - val_acc: 0.8854\n",
      "Epoch 38/40\n",
      "15000/15000 [==============================] - 3s 168us/sample - loss: 0.1049 - acc: 0.9707 - val_loss: 0.3029 - val_acc: 0.8845\n",
      "Epoch 39/40\n",
      "15000/15000 [==============================] - 2s 161us/sample - loss: 0.1017 - acc: 0.9713 - val_loss: 0.3062 - val_acc: 0.8834\n",
      "Epoch 40/40\n",
      "15000/15000 [==============================] - 2s 160us/sample - loss: 0.0975 - acc: 0.9739 - val_loss: 0.3087 - val_acc: 0.8847\n"
     ]
    }
   ],
   "source": [
    "history = model.fit(partial_x_train,\n",
    "                   partial_y_train,\n",
    "                   epochs= 40,\n",
    "                   batch_size= 512,\n",
    "                   validation_data= (x_val, y_val),\n",
    "                   verbose=1)"
   ]
  },
  {
   "cell_type": "code",
   "execution_count": null,
   "metadata": {},
   "outputs": [],
   "source": [
    "#evaluate the model"
   ]
  },
  {
   "cell_type": "code",
   "execution_count": 23,
   "metadata": {},
   "outputs": [
    {
     "name": "stdout",
     "output_type": "stream",
     "text": [
      "25000/25000 [==============================] - 2s 90us/sample - loss: 0.3294 - acc: 0.8720\n",
      "[0.3294128265571594, 0.87196]\n"
     ]
    }
   ],
   "source": [
    "results = model.evaluate(test_data, test_labels)\n",
    "print(results)"
   ]
  },
  {
   "cell_type": "code",
   "execution_count": null,
   "metadata": {},
   "outputs": [],
   "source": [
    "# create the graph of accuracy and loss over time "
   ]
  },
  {
   "cell_type": "code",
   "execution_count": 24,
   "metadata": {},
   "outputs": [
    {
     "data": {
      "text/plain": [
       "dict_keys(['loss', 'acc', 'val_loss', 'val_acc'])"
      ]
     },
     "execution_count": 24,
     "metadata": {},
     "output_type": "execute_result"
    }
   ],
   "source": [
    "history_dict= history.history\n",
    "history_dict.keys()"
   ]
  },
  {
   "cell_type": "code",
   "execution_count": 26,
   "metadata": {},
   "outputs": [
    {
     "data": {
      "image/png": "[encoded data removed]",
      "text/plain": [
       "<Figure size 432x288 with 1 Axes>"
      ]
     },
     "metadata": {
      "needs_background": "light"
     },
     "output_type": "display_data"
    }
   ],
   "source": [
    "import matplotlib.pyplot as plt\n",
    "acc = history.history['acc']\n",
    "val_acc= history.history['val_acc']\n",
    "loss= history.history['loss']\n",
    "val_loss= history.history['val_loss']\n",
    "\n",
    "epochs= range(1, len(acc) + 1 )\n",
    "\n",
    "#bo is for blue_dot\n",
    "\n",
    "plt.plot(epochs, val_loss, 'b', label='Validation loss')\n",
    "plt.title('training and validation loss')\n",
    "plt.xlabel('Epochs')\n",
    "plt.ylabel('Loss')\n",
    "plt.legend()\n",
    "\n",
    "plt.show()"
   ]
  },
  {
   "cell_type": "code",
   "execution_count": 29,
   "metadata": {},
   "outputs": [
    {
     "data": {
      "image/png": "[encoded data removed]",
      "text/plain": [
       "<Figure size 432x288 with 1 Axes>"
      ]
     },
     "metadata": {
      "needs_background": "light"
     },
     "output_type": "display_data"
    }
   ],
   "source": [
    "plt.clf()\n",
    "acc_values = history_dict['acc']\n",
    "val_acc_values= history_dict['val_acc']\n",
    "\n",
    "plt.plot(epochs,acc,'bo', label='Training acc')\n",
    "plt.plot(epochs, val_acc, 'b', label= 'Validation loss')\n",
    "plt.xlabel('Epochs')\n",
    "plt.ylabel('Loss')\n",
    "plt.legend()\n",
    "\n",
    "plt.show()"
   ]
  },
  {
   "cell_type": "code",
   "execution_count": null,
   "metadata": {},
   "outputs": [],
   "source": []
  }
 ],
 "metadata": {
  "kernelspec": {
   "display_name": "Python 3",
   "language": "python",
   "name": "python3"
  },
  "language_info": {
   "codemirror_mode": {
    "name": "ipython",
    "version": 3
   },
   "file_extension": ".py",
   "mimetype": "text/x-python",
   "name": "python",
   "nbconvert_exporter": "python",
   "pygments_lexer": "ipython3",
   "version": "3.6.8"
  }
 },
 "nbformat": 4,
 "nbformat_minor": 2
}
