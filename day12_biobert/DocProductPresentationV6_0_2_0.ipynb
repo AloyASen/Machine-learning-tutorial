{
 "cells": [
  {
   "cell_type": "markdown",
   "metadata": {
    "colab_type": "text",
    "id": "Qaw6CoC4qUb5"
   },
   "source": [
    "![DoctorBert](https://snag.gy/oF84Gk.jpg)\n",
    "\n",
    "\n",
    "![DoctorBert](https://i.ytimg.com/vi/nPemP-Q0Xn8/hqdefault.jpg)\n",
    "\n",
    "This is a Colab Demo of our DocProduct Tensorflow 2.0 Hackathon Project\n",
    "\n",
    "Project details can be seen on our Github repo\n",
    "https://github.com/Santosh-Gupta/DocProduct\n",
    "\n",
    "and our Devpost page\n",
    "https://devpost.com/software/nlp-doctor\n",
    "\n",
    "In order to fit the computational limits of Google Colab, we had to reduce the amount of searchable Q&A datapoints from ~700,000 to ~200,000.\n",
    "We also converted our search embeddings from float32 to float16, although this does not seem to dimish the quality of search (*but that's a whole other product to explore*)\n",
    "\n",
    "Instructions:\n",
    "\n",
    "-Run the first cell to install TF2.0 and FAISS\n",
    "\n",
    "-Run the second cell to download the models and data\n",
    "\n",
    "-Run the third cell to load the weights and data\n",
    "\n",
    "-Input your question and search parameters into the fourth cell to play around with our model results\n",
    "\n",
    "\n"
   ]
  },
  {
   "cell_type": "code",
   "execution_count": null,
   "metadata": {
    "cellView": "both",
    "colab": {
     "base_uri": "https://localhost:8080/",
     "height": 1000
    },
    "colab_type": "code",
    "id": "jmMqTnR0kIBL",
    "outputId": "acf7acbe-024a-4b2f-b546-2e5193060bb6"
   },
   "outputs": [
    {
     "name": "stderr",
     "output_type": "stream",
     "text": [
      "'wget' is not recognized as an internal or external command,\n",
      "operable program or batch file.\n",
      "'tar' is not recognized as an internal or external command,\n",
      "operable program or batch file.\n",
      "'cp' is not recognized as an internal or external command,\n",
      "operable program or batch file.\n"
     ]
    }
   ],
   "source": [
    "#@title Install Faiss, TF 2.0, and our Github. Double Click to see code\n",
    "\n",
    "#To use CPU FAISS use\n",
    "!wget  https://anaconda.org/pytorch/faiss-cpu/1.2.1/download/linux-64/faiss-cpu-1.2.1-py36_cuda9.0.176_1.tar.bz2\n",
    "#To use GPU FAISS use\n",
    "# !wget  https://anaconda.org/pytorch/faiss-gpu/1.2.1/download/linux-64/faiss-gpu-1.2.1-py36_cuda9.0.176_1.tar.bz2\n",
    "!tar xvjf faiss-cpu-1.2.1-py36_cuda9.0.176_1.tar.bz2\n",
    "!cp -r lib/python3.6/site-packages/* /usr/local/lib/python3.6/dist-packages/\n",
    "!pip install mkl\n",
    "\n",
    "!pip install tensorflow-gpu==2.0.0-alpha0\n",
    "import tensorflow as tf\n",
    "!pip install https://github.com/re-search/DocProduct/archive/v0.2.0_dev.zip\n",
    "!pip install gpt2-estimator\n",
    "!pip install pyarrow\n"
   ]
  },
  {
   "cell_type": "code",
   "execution_count": 0,
   "metadata": {
    "cellView": "both",
    "colab": {},
    "colab_type": "code",
    "id": "2WSlwhdFC_0K"
   },
   "outputs": [],
   "source": [
    "#@title Downaload all model checkpoints, and question/answer data. Double click to see this code\n",
    "\n",
    "def download_file_from_google_drive(id, destination):\n",
    "    URL = \"https://docs.google.com/uc?export=download\"\n",
    "\n",
    "    session = requests.Session()\n",
    "\n",
    "    response = session.get(URL, params = { 'id' : id }, stream = True)\n",
    "    token = get_confirm_token(response)\n",
    "\n",
    "    if token:\n",
    "        params = { 'id' : id, 'confirm' : token }\n",
    "        response = session.get(URL, params = params, stream = True)\n",
    "\n",
    "    save_response_content(response, destination)    \n",
    "\n",
    "def get_confirm_token(response):\n",
    "    for key, value in response.cookies.items():\n",
    "        if key.startswith('download_warning'):\n",
    "            return value\n",
    "\n",
    "    return None\n",
    "\n",
    "def save_response_content(response, destination):\n",
    "    CHUNK_SIZE = 32768\n",
    "\n",
    "    with open(destination, \"wb\") as f:\n",
    "        for chunk in response.iter_content(CHUNK_SIZE):\n",
    "            if chunk: # filter out keep-alive new chunks\n",
    "                f.write(chunk)\n",
    "                \n",
    "import os\n",
    "import requests\n",
    "\n",
    "import urllib.request\n",
    "\n",
    "# Download the file from `url` and save it locally under `file_name`:\n",
    "urllib.request.urlretrieve('https://github.com/naver/biobert-pretrained/releases/download/v1.0-pubmed-pmc/biobert_v1.0_pubmed_pmc.tar.gz', 'BioBert.tar.gz')\n",
    "\n",
    "if not os.path.exists('BioBertFolder'):\n",
    "    os.makedirs('BioBertFolder')\n",
    "    \n",
    "import tarfile\n",
    "tar = tarfile.open(\"BioBert.tar.gz\")\n",
    "tar.extractall(path='BioBertFolder/')\n",
    "tar.close()\n",
    "\n",
    "file_id = '1uCXv6mQkFfpw5txGnVCsl93Db7t5Z2mp'\n",
    "\n",
    "download_file_from_google_drive(file_id, 'Float16EmbeddingsExpanded5-27-19.pkl')\n",
    "\n",
    "file_id = 'https://onedrive.live.com/download?cid=9DEDF3C1E2D7E77F&resid=9DEDF3C1E2D7E77F%2132792&authkey=AEQ8GtkcDbe3K98'\n",
    "    \n",
    "urllib.request.urlretrieve( file_id, 'DataAndCheckpoint.zip')\n",
    "\n",
    "if not os.path.exists('newFolder'):\n",
    "    os.makedirs('newFolder')\n",
    "\n",
    "import zipfile\n",
    "zip_ref = zipfile.ZipFile('DataAndCheckpoint.zip', 'r')\n",
    "zip_ref.extractall('newFolder')\n",
    "zip_ref.close()"
   ]
  },
  {
   "cell_type": "code",
   "execution_count": 0,
   "metadata": {
    "cellView": "both",
    "colab": {},
    "colab_type": "code",
    "id": "ztuTHeW4jFiH"
   },
   "outputs": [],
   "source": [
    "#@title Load model weights and Q&A data. Double click to see code\n",
    "\n",
    "from docproduct.predictor import RetreiveQADoc\n",
    "\n",
    "pretrained_path = 'BioBertFolder/biobert_v1.0_pubmed_pmc/'\n",
    "# ffn_weight_file = None\n",
    "bert_ffn_weight_file = 'newFolder/models/bertffn_crossentropy/bertffn'\n",
    "embedding_file = 'Float16EmbeddingsExpanded5-27-19.pkl'\n",
    "\n",
    "doc = RetreiveQADoc(pretrained_path=pretrained_path,\n",
    "ffn_weight_file=None,\n",
    "bert_ffn_weight_file=bert_ffn_weight_file,\n",
    "embedding_file=embedding_file)"
   ]
  },
  {
   "cell_type": "code",
   "execution_count": 0,
   "metadata": {
    "cellView": "form",
    "colab": {},
    "colab_type": "code",
    "id": "qZ110ZqNfBac"
   },
   "outputs": [],
   "source": [
    "#@title Type in your question (512 word limit) and search search parameters\n",
    "\n",
    "question_text = \"I\\u2019ve had chronic migraines for four years and they just keep getting worse.  It\\u2019s to the point now that I have between 20 and 25 migraines a month. I\\u2019ve had a CT scan which came back normal, I\\u2019ve been on amitriptyline, topamax, and propranolol to try to prevent the migraines and I\\u2019ve used maxalt and sumatriptan to break migraines at onset. I haven\\u2019t had consistent relief with any medication, the 3 prophylactics only helped a few of my symptoms and the maxalt/ sumatriptan only succeeded in breaking my migraines about 25% of the time.  I just want to know if anyone can help me figure out what is wrong with me. I\\u2019ll list my symptoms below.  -Sharp shooting pain shooting down jawline from mandibular joint and across cheekbones. Usually on only one side of my face but it changes sides randomly.  -Extreme pain in eyes, sensitivity to light and movement. See flashes of light even when eyes are closed.  -sharp pain starting at base of head/top of neck that runs up head and causes pain in eyes.  -Sharp pain in ears usually accompanied by ringing  Dizziness and nausea, occasionally vomiting  Muscle spasms, usually in hands or face  All pain worsens with any change in position; standing, sitting, rolling over while lying down.  Usually I\\u2019ll know that I\\u2019m going to get a migraine because it starts with the shooting face pain or the eye pain. The 3 prophylactics helped the facial pain but didn\\u2019t reduce the number of migraines I had per month and they all gave me pretty bad side effects.  Side effects from medication  Topamax: felt drunk, nauseous, twitchy  Amitriptyline: extreme fatigue even into the next day when taken at night, confusion, balance issues, muscle spasms  Propranolol: nausea, hair loss, fatigue\"  #@param {type:\"string\"}\n",
    "\n",
    "search_similarity_by = 'answer'  #@param ['answer', \"question\"]\n",
    "\n",
    "number_results_toReturn=10 #@param {type:\"number\"}\n",
    "\n",
    "answer_only=True #@param [\"False\", \"True\"] {type:\"raw\"}\n",
    "\n",
    "returned_results = doc.predict( question_text ,\n",
    "                  search_by=search_similarity_by, topk=number_results_toReturn, answer_only=answer_only)\n",
    "\n",
    "print('')\n",
    "for jk in range(len(returned_results)):\n",
    "    print(\"Result \", jk+1)\n",
    "    print(returned_results[jk])\n",
    "    print('')\n"
   ]
  }
 ],
 "metadata": {
  "accelerator": "GPU",
  "colab": {
   "collapsed_sections": [],
   "name": "DocProductPresentationV6-0.2.0.ipynb",
   "provenance": [],
   "version": "0.3.2"
  },
  "kernelspec": {
   "display_name": "Python 3",
   "language": "python",
   "name": "python3"
  },
  "language_info": {
   "codemirror_mode": {
    "name": "ipython",
    "version": 3
   },
   "file_extension": ".py",
   "mimetype": "text/x-python",
   "name": "python",
   "nbconvert_exporter": "python",
   "pygments_lexer": "ipython3",
   "version": "3.6.8"
  }
 },
 "nbformat": 4,
 "nbformat_minor": 1
}
